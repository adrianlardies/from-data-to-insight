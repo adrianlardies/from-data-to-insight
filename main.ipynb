{
 "cells": [
  {
   "cell_type": "code",
   "execution_count": 1,
   "metadata": {},
   "outputs": [
    {
     "name": "stdout",
     "output_type": "stream",
     "text": [
      "         date  price_bitcoin  price_gold  price_sp500  change_bitcoin  \\\n",
      "0  2015-01-02            315        1186         2058            0.10   \n",
      "1  2015-01-05            275        1204         2021            3.82   \n",
      "2  2015-01-06            282        1219         2003            2.70   \n",
      "3  2015-01-07            291        1211         2026            3.21   \n",
      "4  2015-01-08            283        1208         2062           -2.97   \n",
      "\n",
      "   change_gold    vix  interest_rate     cpi  inflation  \n",
      "0         0.18  17.79           0.01  234.82       0.76  \n",
      "1         1.50  19.92           0.00  234.84       0.76  \n",
      "2         1.28  21.12           0.02  234.84       0.76  \n",
      "3        -0.71  19.31           0.02  234.84       0.76  \n",
      "4        -0.18  17.01           0.02  234.85       0.76  \n"
     ]
    }
   ],
   "source": [
    "import pandas as pd\n",
    "\n",
    "# Cargar el archivo CSV en un nuevo DataFrame\n",
    "df_combined = pd.read_csv('df_combined.csv')\n",
    "\n",
    "# Mostrar las primeras filas para verificar que se ha cargado correctamente\n",
    "print(df_combined.head())"
   ]
  }
 ],
 "metadata": {
  "kernelspec": {
   "display_name": "Python 3",
   "language": "python",
   "name": "python3"
  },
  "language_info": {
   "codemirror_mode": {
    "name": "ipython",
    "version": 3
   },
   "file_extension": ".py",
   "mimetype": "text/x-python",
   "name": "python",
   "nbconvert_exporter": "python",
   "pygments_lexer": "ipython3",
   "version": "3.12.6"
  }
 },
 "nbformat": 4,
 "nbformat_minor": 2
}
