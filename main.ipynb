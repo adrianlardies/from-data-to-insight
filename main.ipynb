{
 "cells": [
  {
   "cell_type": "code",
   "execution_count": null,
   "metadata": {},
   "outputs": [],
   "source": [
    "import pandas as pd\n",
    "from sqlalchemy import create_engine, text\n",
    "import pymysql"
   ]
  },
  {
   "cell_type": "code",
   "execution_count": null,
   "metadata": {},
   "outputs": [],
   "source": [
    "df_combined = pd.read_csv('df_combined.csv')"
   ]
  },
  {
   "cell_type": "code",
   "execution_count": null,
   "metadata": {},
   "outputs": [],
   "source": [
    "df_combined"
   ]
  },
  {
   "cell_type": "code",
   "execution_count": null,
   "metadata": {},
   "outputs": [],
   "source": [
    "# Conexión a la base de datos\n",
    "bd = \"financial_analysis\"\n",
    "password = \"123456\"  # Tu contraseña\n",
    "connection_string = 'mysql+pymysql://root:' + password + '@localhost/' + bd\n",
    "engine = create_engine(connection_string)\n",
    "\n",
    "# Leer el archivo CSV\n",
    "df_combined = pd.read_csv('df_combined.csv')\n",
    "\n",
    "# Dividir el DataFrame en tres partes\n",
    "dates_df = df_combined[['date']].drop_duplicates()  # Evitar fechas duplicadas\n",
    "assets_df = df_combined[['price_bitcoin', 'price_gold', 'price_sp500', 'change_bitcoin', 'change_gold']]\n",
    "economic_factors_df = df_combined[['vix', 'interest_rate', 'cpi', 'inflation']]\n",
    "\n",
    "# Enviar los datos a MySQL\n",
    "dates_df.to_sql('dates', con=engine, if_exists='append', index=False)\n",
    "assets_df.to_sql('assets', con=engine, if_exists='append', index=False)\n",
    "economic_factors_df.to_sql('economic_factors', con=engine, if_exists='append', index=False)"
   ]
  }
 ],
 "metadata": {
  "kernelspec": {
   "display_name": "Python 3",
   "language": "python",
   "name": "python3"
  },
  "language_info": {
   "codemirror_mode": {
    "name": "ipython",
    "version": 3
   },
   "file_extension": ".py",
   "mimetype": "text/x-python",
   "name": "python",
   "nbconvert_exporter": "python",
   "pygments_lexer": "ipython3",
   "version": "3.12.5"
  }
 },
 "nbformat": 4,
 "nbformat_minor": 2
}
