{
 "cells": [
  {
   "cell_type": "code",
   "execution_count": 1,
   "metadata": {},
   "outputs": [],
   "source": [
    "import pandas as pd\n",
    "import pymysql\n",
    "from sqlalchemy import create_engine\n",
    "import getpass  # Para obtener la contraseña sin mostrar la entrada\n",
    "import matplotlib.pyplot as plt\n",
    "import seaborn as sns"
   ]
  },
  {
   "cell_type": "code",
   "execution_count": 3,
   "metadata": {},
   "outputs": [],
   "source": [
    "df_combined = pd.read_csv('df_combined.csv')"
   ]
  },
  {
   "cell_type": "code",
   "execution_count": null,
   "metadata": {},
   "outputs": [],
   "source": [
    "df_combined"
   ]
  },
  {
   "cell_type": "markdown",
   "metadata": {},
   "source": [
    "Primero, leemos los datos del archivo CSV y nos aseguramos de insertar las fechas únicas en la tabla dates."
   ]
  },
  {
   "cell_type": "code",
   "execution_count": null,
   "metadata": {},
   "outputs": [],
   "source": [
    "# Conexión a la base de datos\n",
    "bd = \"financial_analysis\"\n",
    "password = \"123456\"  # Tu contraseña\n",
    "connection_string = 'mysql+pymysql://root:' + password + '@localhost/' + bd\n",
    "engine = create_engine(connection_string)\n",
    "\n",
    "# Leer el archivo CSV\n",
    "df_combined = pd.read_csv('df_combined.csv')\n",
    "\n",
    "# Extraer las fechas únicas del CSV\n",
    "df_dates = pd.DataFrame(df_combined['date'].unique(), columns=['date'])\n",
    "\n",
    "# Insertar las fechas en la tabla 'dates'\n",
    "df_dates.to_sql('dates', con=engine, if_exists='append', index=False)"
   ]
  },
  {
   "cell_type": "markdown",
   "metadata": {},
   "source": [
    "Después de insertar las fechas, hacemos un merge del archivo CSV con la tabla dates para asignar el id_date correcto en cada fila del CSV."
   ]
  },
  {
   "cell_type": "code",
   "execution_count": null,
   "metadata": {},
   "outputs": [],
   "source": [
    "# Cargar las fechas desde la tabla 'dates' para obtener el id_date\n",
    "dates_from_db = pd.read_sql('SELECT * FROM dates', con=engine)\n",
    "\n",
    "# Asegurarse de que las fechas estén en el mismo formato\n",
    "df_combined['date'] = pd.to_datetime(df_combined['date']).dt.date\n",
    "dates_from_db['date'] = pd.to_datetime(dates_from_db['date']).dt.date\n",
    "\n",
    "# Hacer el merge entre el CSV y la tabla 'dates' usando la columna 'date'\n",
    "df_merged = pd.merge(df_combined, dates_from_db, how='left', on='date')\n",
    "\n",
    "# Eliminar la columna 'id_date_x' y renombrar 'id_date_y' a 'id_date'\n",
    "df_merged.drop(columns=['id_date_x'], inplace=True)\n",
    "df_merged.rename(columns={'id_date_y': 'id_date'}, inplace=True)"
   ]
  },
  {
   "cell_type": "markdown",
   "metadata": {},
   "source": [
    "Una vez hecho el merge y corregido el id_date, dividimos los datos entre los activos y los factores económicos y los insertamos en las tablas correspondientes."
   ]
  },
  {
   "cell_type": "code",
   "execution_count": null,
   "metadata": {},
   "outputs": [],
   "source": [
    "# Dividir el DataFrame en las partes necesarias con el id_date ya corregido\n",
    "assets_df = df_merged[['id_date', 'price_bitcoin', 'price_gold', 'price_sp500', 'change_bitcoin', 'change_gold']]\n",
    "economic_factors_df = df_merged[['id_date', 'vix', 'interest_rate', 'cpi', 'inflation']]\n",
    "\n",
    "# Insertar los datos en las tablas correspondientes\n",
    "assets_df.to_sql('assets', con=engine, if_exists='append', index=False)\n",
    "economic_factors_df.to_sql('economic_factors', con=engine, if_exists='append', index=False)"
   ]
  },
  {
   "cell_type": "markdown",
   "metadata": {},
   "source": [
    "Conexión con MySQL para traer las consultas a Python"
   ]
  },
  {
   "cell_type": "code",
   "execution_count": 5,
   "metadata": {},
   "outputs": [],
   "source": [
    "# Obtener la contraseña de forma segura\n",
    "password = getpass.getpass(\"Introduce la contraseña de MySQL: \")\n",
    "\n",
    "# Configuración de la base de datos y la conexión\n",
    "bd = \"financial_analysis\"  # Nombre de tu base de datos\n",
    "connection_string = 'mysql+pymysql://root:' + password + '@localhost/' + bd\n",
    "engine = create_engine(connection_string)"
   ]
  },
  {
   "cell_type": "code",
   "execution_count": 6,
   "metadata": {},
   "outputs": [],
   "source": [
    "# Consulta 1: Crecimiento anual de Bitcoin, Oro y S&P 500\n",
    "consulta1 = \"\"\"\n",
    "SELECT\n",
    "    year(d.date) AS year,\n",
    "    a.price_bitcoin,\n",
    "    a.price_gold,\n",
    "    a.price_sp500,\n",
    "    ROUND( (a.price_bitcoin - LAG(a.price_bitcoin) OVER (ORDER BY year(d.date))) / LAG(a.price_bitcoin) OVER (ORDER BY year(d.date)) * 100, 2) AS bitcoin_growth,\n",
    "    ROUND( (a.price_gold - LAG(a.price_gold) OVER (ORDER BY year(d.date))) / LAG(a.price_gold) OVER (ORDER BY year(d.date)) * 100, 2) AS gold_growth,\n",
    "    ROUND( (a.price_sp500 - LAG(a.price_sp500) OVER (ORDER BY year(d.date))) / LAG(a.price_sp500) OVER (ORDER BY year(d.date)) * 100, 2) AS sp500_growth\n",
    "FROM \n",
    "    assets a\n",
    "JOIN \n",
    "    dates d ON a.id_date = d.id_date\n",
    "WHERE \n",
    "    d.date IN (SELECT MAX(d2.date) FROM dates d2 GROUP BY year(d2.date))\n",
    "ORDER BY \n",
    "    year(d.date);\n",
    "\"\"\"\n",
    "df1 = pd.read_sql(consulta1, con=engine)"
   ]
  },
  {
   "cell_type": "code",
   "execution_count": null,
   "metadata": {},
   "outputs": [],
   "source": [
    "df1"
   ]
  },
  {
   "cell_type": "code",
   "execution_count": null,
   "metadata": {},
   "outputs": [],
   "source": [
    "# Mejorado para consulta 1: Crecimiento anual de Bitcoin, Oro y S&P 500\n",
    "plt.figure(figsize=(12, 8))\n",
    "\n",
    "# Gráfico de líneas para cada activo\n",
    "plt.plot(df1['year'], df1['bitcoin_growth'], label='Crecimiento Bitcoin', marker='o', linestyle='-', color='orange')\n",
    "plt.plot(df1['year'], df1['gold_growth'], label='Crecimiento Oro', marker='s', linestyle='-', color='gold')\n",
    "plt.plot(df1['year'], df1['sp500_growth'], label='Crecimiento S&P 500', marker='^', linestyle='-', color='blue')\n",
    "\n",
    "# Títulos y etiquetas\n",
    "plt.title('Crecimiento Anual de Bitcoin, Oro y S&P 500 (2015-2024)', fontsize=16, fontweight='bold')\n",
    "plt.xlabel('Año', fontsize=14)\n",
    "plt.ylabel('Crecimiento (%)', fontsize=14)\n",
    "\n",
    "# Leyenda\n",
    "plt.legend(title='Activos', title_fontsize='13', fontsize='12')\n",
    "\n",
    "# Añadir etiquetas de datos\n",
    "for i in range(len(df1)):\n",
    "    plt.text(df1['year'][i], df1['bitcoin_growth'][i], f\"{df1['bitcoin_growth'][i]:.2f}%\", fontsize=10, ha='center', color='orange')\n",
    "    plt.text(df1['year'][i], df1['gold_growth'][i], f\"{df1['gold_growth'][i]:.2f}%\", fontsize=10, ha='center', color='gold')\n",
    "    plt.text(df1['year'][i], df1['sp500_growth'][i], f\"{df1['sp500_growth'][i]:.2f}%\", fontsize=10, ha='center', color='blue')\n",
    "\n",
    "# Estilo de cuadrícula\n",
    "plt.grid(True, linestyle='--', alpha=0.6)\n",
    "\n",
    "# Mostrar gráfico\n",
    "plt.tight_layout()\n",
    "plt.show()\n"
   ]
  },
  {
   "cell_type": "code",
   "execution_count": 9,
   "metadata": {},
   "outputs": [],
   "source": [
    "# Consulta 2: Promedio y volatilidad mensual de los activos\n",
    "consulta2 = \"\"\"\n",
    "SELECT \n",
    "    DATE_FORMAT(d.date, '%%Y-%%m') AS month_year,\n",
    "    AVG(a.price_bitcoin) AS avg_bitcoin,\n",
    "    STD(a.price_bitcoin) AS volatility_bitcoin,\n",
    "    AVG(a.price_gold) AS avg_gold,\n",
    "    STD(a.price_gold) AS volatility_gold,\n",
    "    AVG(a.price_sp500) AS avg_sp500,\n",
    "    STD(a.price_sp500) AS volatility_sp500\n",
    "FROM \n",
    "    assets a\n",
    "JOIN \n",
    "    dates d ON a.id_date = d.id_date\n",
    "GROUP BY \n",
    "    month_year\n",
    "ORDER BY \n",
    "    month_year;\n",
    "\"\"\"\n",
    "\n",
    "# Ejecutar la consulta y cargar los datos en un DataFrame\n",
    "df2 = pd.read_sql(consulta2, con=engine)"
   ]
  },
  {
   "cell_type": "code",
   "execution_count": null,
   "metadata": {},
   "outputs": [],
   "source": [
    "# Mostrar el DataFrame resultante\n",
    "df2"
   ]
  },
  {
   "cell_type": "code",
   "execution_count": 11,
   "metadata": {},
   "outputs": [],
   "source": [
    "# Consulta 3: Efecto de las tasas de interés en el precio y volatilidad de Bitcoin\n",
    "consulta3 = \"\"\"\n",
    "SELECT\n",
    "    CASE\n",
    "        WHEN e.interest_rate <= 2 THEN 'Bajas tasas de interés'\n",
    "        ELSE 'Altas tasas de interés'\n",
    "    END AS interest_rate_scenario,\n",
    "    AVG(a.price_bitcoin) AS avg_bitcoin_price,\n",
    "    STD(a.price_bitcoin) AS volatility_bitcoin\n",
    "FROM\n",
    "    economic_factors e\n",
    "JOIN\n",
    "    assets a ON e.id_date = a.id_date\n",
    "GROUP BY\n",
    "    interest_rate_scenario;\n",
    "\"\"\"\n",
    "\n",
    "# Ejecutar la consulta y cargar los datos en un DataFrame\n",
    "df3 = pd.read_sql(consulta3, con=engine)"
   ]
  },
  {
   "cell_type": "code",
   "execution_count": null,
   "metadata": {},
   "outputs": [],
   "source": [
    "# Mostrar el DataFrame resultante\n",
    "df3"
   ]
  },
  {
   "cell_type": "code",
   "execution_count": 13,
   "metadata": {},
   "outputs": [],
   "source": [
    "# Consulta 4: Crecimiento del S&P 500 y su relación con la inflación\n",
    "consulta4 = \"\"\"\n",
    "WITH yearly_data AS (\n",
    "    SELECT \n",
    "        year(d.date) AS year,\n",
    "        MAX(a.price_sp500) AS price_sp500,\n",
    "        AVG(e.inflation) AS avg_inflation\n",
    "    FROM \n",
    "        assets a\n",
    "    JOIN \n",
    "        economic_factors e ON a.id_date = e.id_date\n",
    "    JOIN \n",
    "        dates d ON a.id_date = d.id_date\n",
    "    WHERE \n",
    "        d.date IN (SELECT MAX(d2.date) FROM dates d2 GROUP BY year(d2.date))\n",
    "    GROUP BY \n",
    "        year(d.date)\n",
    ")\n",
    "SELECT \n",
    "    year,\n",
    "    price_sp500,\n",
    "    ROUND((price_sp500 - LAG(price_sp500) OVER (ORDER BY year)) / LAG(price_sp500) OVER (ORDER BY year) * 100, 2) AS sp500_growth,\n",
    "    avg_inflation\n",
    "FROM \n",
    "    yearly_data\n",
    "ORDER BY \n",
    "    year;\n",
    "\"\"\"\n",
    "\n",
    "# Ejecutar la consulta y cargar los datos en un DataFrame\n",
    "df4 = pd.read_sql(consulta4, con=engine)"
   ]
  },
  {
   "cell_type": "code",
   "execution_count": null,
   "metadata": {},
   "outputs": [],
   "source": [
    "# Mostrar el DataFrame resultante\n",
    "df4"
   ]
  },
  {
   "cell_type": "code",
   "execution_count": null,
   "metadata": {},
   "outputs": [],
   "source": [
    "# Mejorado para consulta 4: Crecimiento del S&P 500 y relación con la inflación\n",
    "fig, ax1 = plt.subplots(figsize=(12, 8))\n",
    "\n",
    "# Gráfico de líneas para el crecimiento del S&P 500\n",
    "ax1.plot(df4['year'], df4['sp500_growth'], color='blue', marker='o', label='Crecimiento S&P 500')\n",
    "ax1.set_xlabel('Año', fontsize=14)\n",
    "ax1.set_ylabel('Crecimiento del S&P 500 (%)', color='blue', fontsize=14)\n",
    "ax1.tick_params(axis='y', labelcolor='blue')\n",
    "\n",
    "# Añadir etiquetas de datos en el gráfico de S&P 500\n",
    "for i in range(len(df4)):\n",
    "    ax1.text(df4['year'][i], df4['sp500_growth'][i], f\"{df4['sp500_growth'][i]:.2f}%\", fontsize=10, ha='center', color='blue')\n",
    "\n",
    "# Crear un segundo eje Y para la inflación\n",
    "ax2 = ax1.twinx()\n",
    "ax2.plot(df4['year'], df4['avg_inflation'], color='red', marker='s', label='Inflación Promedio')\n",
    "ax2.set_ylabel('Inflación Promedio (%)', color='red', fontsize=14)\n",
    "ax2.tick_params(axis='y', labelcolor='red')\n",
    "\n",
    "# Añadir etiquetas de datos en el gráfico de inflación\n",
    "for i in range(len(df4)):\n",
    "    ax2.text(df4['year'][i], df4['avg_inflation'][i], f\"{df4['avg_inflation'][i]:.2f}%\", fontsize=10, ha='center', color='red')\n",
    "\n",
    "# Título\n",
    "plt.title('Crecimiento del S&P 500 y su Relación con la Inflación (2015-2024)', fontsize=16, fontweight='bold')\n",
    "\n",
    "# Leyendas\n",
    "ax1.legend(loc='upper left')\n",
    "ax2.legend(loc='upper right')\n",
    "\n",
    "# Cuadrícula\n",
    "ax1.grid(True, linestyle='--', alpha=0.6)\n",
    "\n",
    "# Mostrar gráfico\n",
    "plt.tight_layout()\n",
    "plt.show()\n"
   ]
  },
  {
   "cell_type": "code",
   "execution_count": 16,
   "metadata": {},
   "outputs": [],
   "source": [
    "# Consulta 5: Promedio y volatilidad de Bitcoin en condiciones de alta volatilidad e inflación\n",
    "consulta5 = \"\"\"\n",
    "SELECT\n",
    "    AVG(a.price_bitcoin) AS avg_bitcoin_price,\n",
    "    STD(a.price_bitcoin) AS volatility_bitcoin,\n",
    "    AVG(e.vix) AS avg_vix,\n",
    "    AVG(e.inflation) AS avg_inflation\n",
    "FROM\n",
    "    assets a\n",
    "JOIN\n",
    "    economic_factors e ON a.id_date = e.id_date\n",
    "WHERE\n",
    "    e.vix > 30 AND e.inflation > 3;\n",
    "\"\"\"\n",
    "\n",
    "# Ejecutar la consulta y cargar los datos en un DataFrame\n",
    "df5 = pd.read_sql(consulta5, con=engine)"
   ]
  },
  {
   "cell_type": "code",
   "execution_count": null,
   "metadata": {},
   "outputs": [],
   "source": [
    "# Mostrar el DataFrame resultante\n",
    "df5"
   ]
  },
  {
   "cell_type": "code",
   "execution_count": 1,
   "metadata": {},
   "outputs": [],
   "source": [
    "import getpass\n",
    "import functions as fn\n",
    "\n",
    "# 1. Leer el CSV\n",
    "df_combined = fn.load_csv('df_combined.csv')\n",
    "\n",
    "# 2. Conectar a la base de datos\n",
    "password = getpass.getpass(\"Introduce la contraseña de MySQL: \")\n",
    "engine = fn.create_db_connection(password)\n",
    "\n",
    "# 3. Insertar fechas y obtener id_date\n",
    "fn.insert_dates(df_combined, engine)\n",
    "df_merged = fn.merge_dates(df_combined, engine)\n",
    "\n",
    "# 4. Dividir e insertar datos en las tablas 'assets' y 'economic_factors'\n",
    "fn.split_and_insert_data(df_merged, engine)\n",
    "\n",
    "# 5. Ejecutar y visualizar consulta 1\n",
    "consulta1 = \"\"\"\n",
    "SELECT\n",
    "    year(d.date) AS year,\n",
    "    a.price_bitcoin,\n",
    "    a.price_gold,\n",
    "    a.price_sp500,\n",
    "    ROUND( (a.price_bitcoin - LAG(a.price_bitcoin) OVER (ORDER BY year(d.date))) / LAG(a.price_bitcoin) OVER (ORDER BY year(d.date)) * 100, 2) AS bitcoin_growth,\n",
    "    ROUND( (a.price_gold - LAG(a.price_gold) OVER (ORDER BY year(d.date))) / LAG(a.price_gold) OVER (ORDER BY year(d.date)) * 100, 2) AS gold_growth,\n",
    "    ROUND( (a.price_sp500 - LAG(a.price_sp500) OVER (ORDER BY year(d.date))) / LAG(a.price_sp500) OVER (ORDER BY year(d.date)) * 100, 2) AS sp500_growth\n",
    "FROM \n",
    "    assets a\n",
    "JOIN \n",
    "    dates d ON a.id_date = d.id_date\n",
    "WHERE \n",
    "    d.date IN (SELECT MAX(d2.date) FROM dates d2 GROUP BY year(d2.date))\n",
    "ORDER BY \n",
    "    year(d.date);\n",
    "\"\"\"\n",
    "df1 = fn.execute_query(engine, consulta1)\n",
    "fn.plot_growth_comparison(df1)\n",
    "\n",
    "# 6. Ejecutar y visualizar consulta 4\n",
    "consulta4 = \"\"\"\n",
    "WITH yearly_data AS (\n",
    "    SELECT \n",
    "        year(d.date) AS year,\n",
    "        MAX(a.price_sp500) AS price_sp500,\n",
    "        AVG(e.inflation) AS avg_inflation\n",
    "    FROM \n",
    "        assets a\n",
    "    JOIN \n",
    "        economic_factors e ON a.id_date = e.id_date\n",
    "    JOIN \n",
    "        dates d ON a.id_date = d.id_date\n",
    "    WHERE \n",
    "        d.date IN (SELECT MAX(d2.date) FROM dates d2 GROUP BY year(d2.date))\n",
    "    GROUP BY \n",
    "        year(d.date)\n",
    ")\n",
    "SELECT \n",
    "    year,\n",
    "    price_sp500,\n",
    "    ROUND((price_sp500 - LAG(price_sp500) OVER (ORDER BY year)) / LAG(price_sp500) OVER (ORDER BY year) * 100, 2) AS sp500_growth,\n",
    "    avg_inflation\n",
    "FROM \n",
    "    yearly_data\n",
    "ORDER BY \n",
    "    year;\n",
    "\"\"\"\n",
    "df4 = fn.execute_query(engine, consulta4)\n",
    "fn.plot_sp500_inflation(df4)\n"
   ]
  }
 ],
 "metadata": {
  "kernelspec": {
   "display_name": "Python 3",
   "language": "python",
   "name": "python3"
  },
  "language_info": {
   "codemirror_mode": {
    "name": "ipython",
    "version": 3
   },
   "file_extension": ".py",
   "mimetype": "text/x-python",
   "name": "python",
   "nbconvert_exporter": "python",
   "pygments_lexer": "ipython3",
   "version": "3.12.5"
  }
 },
 "nbformat": 4,
 "nbformat_minor": 2
}
